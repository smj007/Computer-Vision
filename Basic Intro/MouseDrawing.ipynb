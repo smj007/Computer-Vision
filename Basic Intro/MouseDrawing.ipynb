{
 "cells": [
  {
   "cell_type": "code",
   "execution_count": 3,
   "metadata": {},
   "outputs": [],
   "source": [
    "#To draw on an image by a mouse action, by setting a callback function\n",
    "\n",
    "import cv2\n",
    "import numpy as np\n",
    "\n",
    "#function to draw\n",
    "def draw_circle(event, x, y, flags, param):\n",
    "    \n",
    "    if event == cv2.EVENT_LBUTTONDOWN:\n",
    "        \n",
    "        cv2.circle(img, (x, y),100, (0, 255, 0), -1) #solid fill of -1\n",
    "        \n",
    "    elif event == cv2.EVENT_RBUTTONDOWN:\n",
    "        \n",
    "        cv2.circle(img, (x, y),100, (255, 0, 0), -1)  #NOTE - as we plot uisng cv2 it is BGR, but after this if we use plt.imshow it is RGB\n",
    "        \n",
    "#callback\n",
    "#img to display and draw on\n",
    "\n",
    "img = np.zeros((512, 512, 3), np.uint8)\n",
    "\n",
    "#name the window for referencing\n",
    "\n",
    "cv2.namedWindow(winname = 'drawing')\n",
    "cv2.setMouseCallback('drawing', draw_circle)\n",
    "\n",
    "while True:\n",
    "    \n",
    "    cv2.imshow('drawing', img)\n",
    "    \n",
    "    if cv2.waitKey(20) & 0xFF == 27:\n",
    "        break\n",
    "     \n",
    "cv2.destroyAllWindows()    \n",
    "\n"
   ]
  },
  {
   "cell_type": "code",
   "execution_count": null,
   "metadata": {},
   "outputs": [],
   "source": []
  }
 ],
 "metadata": {
  "kernelspec": {
   "display_name": "Python 3",
   "language": "python",
   "name": "python3"
  },
  "language_info": {
   "codemirror_mode": {
    "name": "ipython",
    "version": 3
   },
   "file_extension": ".py",
   "mimetype": "text/x-python",
   "name": "python",
   "nbconvert_exporter": "python",
   "pygments_lexer": "ipython3",
   "version": "3.6.6"
  }
 },
 "nbformat": 4,
 "nbformat_minor": 4
}
