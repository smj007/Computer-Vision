{
 "cells": [
  {
   "cell_type": "code",
   "execution_count": 8,
   "metadata": {},
   "outputs": [],
   "source": [
    "#video files \n",
    "import cv2\n",
    "import time\n",
    "fps = 25\n",
    "\n",
    "cap = cv2.VideoCapture('../DATA/capture1.mp4')\n",
    "\n",
    "if cap.isOpened() == False:\n",
    "    print(\"Error has been thrown\")\n",
    "    \n",
    "while cap.isOpened():\n",
    "    \n",
    "    ret, frame = cap.read()\n",
    "    \n",
    "    if ret == True:\n",
    "        time.sleep(1/fps)\n",
    "        cv2.imshow('frame', frame)\n",
    "        \n",
    "        \n",
    "        if cv2.waitKey(1) & 0xFF == 27:    \n",
    "            break\n",
    "        \n",
    "    else:\n",
    "        break\n",
    "      \n",
    "cap.release()\n",
    "cv2.destroyAllWindows()\n",
    "        \n"
   ]
  },
  {
   "cell_type": "code",
   "execution_count": null,
   "metadata": {},
   "outputs": [],
   "source": []
  }
 ],
 "metadata": {
  "kernelspec": {
   "display_name": "Python 3",
   "language": "python",
   "name": "python3"
  },
  "language_info": {
   "codemirror_mode": {
    "name": "ipython",
    "version": 3
   },
   "file_extension": ".py",
   "mimetype": "text/x-python",
   "name": "python",
   "nbconvert_exporter": "python",
   "pygments_lexer": "ipython3",
   "version": "3.6.6"
  }
 },
 "nbformat": 4,
 "nbformat_minor": 4
}
