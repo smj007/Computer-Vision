{
 "cells": [
  {
   "cell_type": "code",
   "execution_count": 1,
   "metadata": {},
   "outputs": [],
   "source": [
    "import cv2\n",
    "import numpy as np"
   ]
  },
  {
   "cell_type": "code",
   "execution_count": 2,
   "metadata": {},
   "outputs": [],
   "source": [
    "#Dense optical flow method - the params taken by the function\n",
    "\n",
    "# * prev first 8-bit single-channel input image.\n",
    "# * next second input image of the same size and the same type as prev.\n",
    "# * flow computed flow image that has the same size as prev and type CV_32FC2.\n",
    "# * pyr_scale parameter, specifying the image scale (\\<1) to build pyramids for each image\n",
    "#     * pyr_scale=0.5 means a classical pyramid, where each next layer is twice smaller than the previous one.\n",
    "    \n",
    "# * levels number of pyramid layers including the initial image; levels=1 means that no extra layers are created and only the original images are used.\n",
    "# * winsize averaging window size\n",
    "#     * larger values increase the algorithm robustness to image\n",
    "# * noise and give more chances for fast motion detection, but yield more blurred motion field.\n",
    "# * iterations number of iterations the algorithm does at each pyramid level.\n",
    "# * poly_n size of the pixel neighborhood used to find polynomial expansion in each pixel\n",
    "#     * larger values mean that the image will be approximated with smoother surfaces, yielding more robust algorithm and more blurred motion field, typically poly_n =5 or 7.\n",
    "# * poly_sigma standard deviation of the Gaussian that is used to smooth derivatives used as a basis for the polynomial expansion; for poly_n=5, you can set poly_sigma=1.1, for poly_n=7, a good value would be poly_sigma=1.5."
   ]
  },
  {
   "cell_type": "code",
   "execution_count": 4,
   "metadata": {},
   "outputs": [],
   "source": [
    "cap = cv2.VideoCapture(0)\n",
    "ret, frame1 = cap.read()\n",
    "\n",
    "prevImg = cv2.cvtColor(frame1, cv2.COLOR_BGR2GRAY)\n",
    "\n",
    "hsv_mask = np.zeros_like(frame1)\n",
    "hsv_mask[:, :, 1] = 255\n",
    "#make a hsv mask and the saturation is maxed out\n",
    "\n",
    "while True:\n",
    "    \n",
    "    ret, frame2 = cap.read()\n",
    "    nextImg = cv2.cvtColor(frame2, cv2.COLOR_BGR2GRAY)\n",
    "    \n",
    "    #calc the OF\n",
    "    flow = cv2.calcOpticalFlowFarneback(prevImg, nextImg, None, 0.5, 3, 15, 3, 5, 1.2, 0)\n",
    "    #return isa vector and sep to mag and angle\n",
    "    \n",
    "    mag, angle = cv2.cartToPolar(flow[:, :, 0], flow[:, :, 1], angleInDegrees = True) #x and y comp of flow vector fed in\n",
    "    hsv_mask[:, :, 0] = angle / 2\n",
    "    hsv_mask[:, :, 2] = cv2.normalize(mag, None, 0, 255, cv2.NORM_MINMAX) #min pushed to 0 and max to 255bgr\n",
    "    \n",
    "    #conv the mask to bgr and show\n",
    "    bgr = cv2.cvtColor(hsv_mask, cv2.COLOR_HSV2BGR)\n",
    "    cv2.imshow('Detector', bgr)\n",
    "    \n",
    "    k = cv2.waitKey(30) & 0xff\n",
    "    if k == 27:\n",
    "        break\n",
    "        \n",
    "    prevImg = nextImg\n",
    "    \n",
    "cap.release()\n",
    "cv2.destroyAllWindows()"
   ]
  },
  {
   "cell_type": "code",
   "execution_count": 5,
   "metadata": {},
   "outputs": [],
   "source": [
    "# #acc to the color space - \n",
    "# movements are like :\n",
    "#     left = blue\n",
    "#     right = red\n",
    "#     up = purple\n",
    "#     down = green\n",
    "# this is based on the angle"
   ]
  }
 ],
 "metadata": {
  "kernelspec": {
   "display_name": "Python 3",
   "language": "python",
   "name": "python3"
  },
  "language_info": {
   "codemirror_mode": {
    "name": "ipython",
    "version": 3
   },
   "file_extension": ".py",
   "mimetype": "text/x-python",
   "name": "python",
   "nbconvert_exporter": "python",
   "pygments_lexer": "ipython3",
   "version": "3.6.6"
  }
 },
 "nbformat": 4,
 "nbformat_minor": 4
}
